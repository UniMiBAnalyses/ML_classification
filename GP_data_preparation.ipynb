{
 "cells": [
  {
   "cell_type": "code",
   "execution_count": 1,
   "id": "7960a315",
   "metadata": {},
   "outputs": [
    {
     "name": "stdout",
     "output_type": "stream",
     "text": [
      "Welcome to JupyROOT 6.18/00\n"
     ]
    }
   ],
   "source": [
    "import ROOT\n",
    "import os\n",
    "import pandas as pd\n",
    "import numpy as np\n",
    "import pickle\n",
    "import glob"
   ]
  },
  {
   "cell_type": "code",
   "execution_count": 2,
   "id": "ebb833f0",
   "metadata": {},
   "outputs": [
    {
     "data": {
      "text/plain": [
       "'/eos/home-g/gpizzati/SWAN_projects/ML_classification'"
      ]
     },
     "execution_count": 2,
     "metadata": {},
     "output_type": "execute_result"
    }
   ],
   "source": [
    "os.path.abspath(\".\")"
   ]
  },
  {
   "cell_type": "code",
   "execution_count": 3,
   "id": "3d583884",
   "metadata": {},
   "outputs": [],
   "source": [
    "os.chdir(\"/eos/home-g/gpizzati//dnn/2018\")"
   ]
  },
  {
   "cell_type": "code",
   "execution_count": 4,
   "id": "8683c7ec",
   "metadata": {},
   "outputs": [
    {
     "data": {
      "text/plain": [
       "'/eos/home-g/gpizzati/dnn/2018'"
      ]
     },
     "execution_count": 4,
     "metadata": {},
     "output_type": "execute_result"
    }
   ],
   "source": [
    "os.path.abspath(\".\")"
   ]
  },
  {
   "cell_type": "markdown",
   "id": "a5b9b4a4",
   "metadata": {},
   "source": [
    "# Different samples\n",
    "{ 'Zjj',  'DY', 'top', 'WW', 'WWewk', 'ggWW', 'Vg', 'VgS',  'VZ' , 'VVV' }"
   ]
  },
  {
   "cell_type": "markdown",
   "id": "19a6d4f3",
   "metadata": {},
   "source": [
    "## Signal Zjj"
   ]
  },
  {
   "cell_type": "code",
   "execution_count": 6,
   "id": "4043b3ed",
   "metadata": {},
   "outputs": [],
   "source": [
    "files = glob.glob(\"samples/*Zjj*\")\n",
    "dfs = []\n",
    "for f in files:\n",
    "    df = ROOT.ROOT.RDataFrame(\"notTop_lowDeta/dnn_inputs/tree_Zjj\",f)\n",
    "    df2 = pd.DataFrame(df.AsNumpy())\n",
    "    df2['sample_name'] = 'Zjj'\n",
    "    #df3 = df2[df2['weight']>0]\n",
    "    dfs.append(df2)\n",
    "    del df\n",
    "    \n",
    "df_tot = pd.concat(dfs, ignore_index=True)\n",
    "df_tot.to_pickle(\"pickles/lowDeta_sig.pkl\")\n",
    "del df_tot\n",
    "del dfs"
   ]
  },
  {
   "cell_type": "code",
   "execution_count": 7,
   "id": "e3722c0b",
   "metadata": {},
   "outputs": [],
   "source": [
    "files = glob.glob(\"samples/*Zjj*\")\n",
    "dfs = []\n",
    "for f in files:\n",
    "    df = ROOT.ROOT.RDataFrame(\"notTop_highDeta/dnn_inputs/tree_Zjj\",f)\n",
    "    df2 = pd.DataFrame(df.AsNumpy())\n",
    "    df2['sample_name'] = 'Zjj'\n",
    "    #df3 = df2[df2['weight']>0]\n",
    "    dfs.append(df2)\n",
    "    del df\n",
    "    \n",
    "df_tot = pd.concat(dfs, ignore_index=True)\n",
    "df_tot.to_pickle(\"pickles/highDeta_sig.pkl\")\n",
    "del df_tot\n",
    "del dfs"
   ]
  },
  {
   "cell_type": "markdown",
   "id": "1e926d67",
   "metadata": {},
   "source": [
    "## DY and DY PU"
   ]
  },
  {
   "cell_type": "code",
   "execution_count": 8,
   "id": "23cf504e",
   "metadata": {},
   "outputs": [],
   "source": [
    "files = glob.glob(\"samples/*DY*\")\n",
    "dfs = []\n",
    "for f in files:\n",
    "    df = ROOT.ROOT.RDataFrame(\"notTop_lowDeta/dnn_inputs/tree_DY_PUJets\",f)\n",
    "    df2 = pd.DataFrame(df.AsNumpy())\n",
    "    df2['sample_name'] = 'DY PU'\n",
    "    #df3 = df2[df2['weight']>0]\n",
    "    dfs.append(df2)\n",
    "    del df\n",
    "    df = ROOT.ROOT.RDataFrame(\"notTop_lowDeta/dnn_inputs/tree_DY_hardJets\",f)\n",
    "    df2 = pd.DataFrame(df.AsNumpy())\n",
    "    df2['sample_name'] = 'DY'\n",
    "    #df3 = df2[df2['weight']>0]\n",
    "    dfs.append(df2)\n",
    "    del df\n",
    "df_tot = pd.concat(dfs, ignore_index=True)\n",
    "df_tot.to_pickle(\"pickles/lowDeta_DY.pkl\")\n",
    "del df_tot\n",
    "del dfs"
   ]
  },
  {
   "cell_type": "code",
   "execution_count": 9,
   "id": "82e1fc34",
   "metadata": {},
   "outputs": [],
   "source": [
    "files = glob.glob(\"samples/*DY*\")\n",
    "dfs = []\n",
    "for f in files:\n",
    "    df = ROOT.ROOT.RDataFrame(\"notTop_highDeta/dnn_inputs/tree_DY_PUJets\",f)\n",
    "    df2 = pd.DataFrame(df.AsNumpy())\n",
    "    df2['sample_name'] = 'DY PU'\n",
    "    #df3 = df2[df2['weight']>0]\n",
    "    dfs.append(df2)\n",
    "    del df\n",
    "    df = ROOT.ROOT.RDataFrame(\"notTop_highDeta/dnn_inputs/tree_DY_hardJets\",f)\n",
    "    df2 = pd.DataFrame(df.AsNumpy())\n",
    "    df2['sample_name'] = 'DY'\n",
    "    #df3 = df2[df2['weight']>0]\n",
    "    dfs.append(df2)\n",
    "    del df\n",
    "df_tot = pd.concat(dfs, ignore_index=True)\n",
    "df_tot.to_pickle(\"pickles/highDeta_DY.pkl\")\n",
    "del df_tot\n",
    "del dfs"
   ]
  },
  {
   "cell_type": "markdown",
   "id": "ae42d0e5",
   "metadata": {},
   "source": [
    "## Secondary samples"
   ]
  },
  {
   "cell_type": "markdown",
   "id": "15e36594",
   "metadata": {},
   "source": [
    "### Top"
   ]
  },
  {
   "cell_type": "code",
   "execution_count": 7,
   "id": "e56f90ca",
   "metadata": {},
   "outputs": [],
   "source": [
    "files = glob.glob(\"samples/*top*\")\n",
    "dfs = []\n",
    "for f in files:\n",
    "    df = ROOT.ROOT.RDataFrame(\"notTop_lowDeta/dnn_inputs/tree_top\",f)\n",
    "    df2 = pd.DataFrame(df.AsNumpy())\n",
    "    df2['sample_name'] = 'Top'\n",
    "    df3 = df2[df2['weight']>0]\n",
    "    dfs.append(df3)\n",
    "    del df\n",
    "df_tot = pd.concat(dfs, ignore_index=True)\n",
    "df_tot.to_pickle(\"pickles/lowDeta_top.pkl\")\n",
    "del df_tot\n",
    "del dfs"
   ]
  },
  {
   "cell_type": "code",
   "execution_count": 8,
   "id": "6df69f04",
   "metadata": {},
   "outputs": [],
   "source": [
    "files = glob.glob(\"samples/*top*\")\n",
    "dfs = []\n",
    "for f in files:\n",
    "    df = ROOT.ROOT.RDataFrame(\"notTop_highDeta/dnn_inputs/tree_top\",f)\n",
    "    df2 = pd.DataFrame(df.AsNumpy())\n",
    "    df2['sample_name'] = 'Top'\n",
    "    df3 = df2[df2['weight']>0]\n",
    "    dfs.append(df3)\n",
    "    del df\n",
    "df_tot = pd.concat(dfs, ignore_index=True)\n",
    "df_tot.to_pickle(\"pickles/highDeta_top.pkl\")\n",
    "del df_tot\n",
    "del dfs"
   ]
  },
  {
   "cell_type": "markdown",
   "id": "73973ca2",
   "metadata": {},
   "source": [
    "### WW "
   ]
  },
  {
   "cell_type": "code",
   "execution_count": 21,
   "id": "1761d923",
   "metadata": {
    "scrolled": false
   },
   "outputs": [
    {
     "data": {
      "text/plain": [
       "['samples/plots_dnn_2018_ALL_WW.root',\n",
       " 'samples/plots_dnn_2018_ALL_WWewk.0.root',\n",
       " 'samples/plots_dnn_2018_ALL_WWewk.1.root']"
      ]
     },
     "execution_count": 21,
     "metadata": {},
     "output_type": "execute_result"
    }
   ],
   "source": [
    "files = glob.glob(\"samples/*_WW*\")\n",
    "files"
   ]
  },
  {
   "cell_type": "code",
   "execution_count": 19,
   "id": "ba5d7a5b",
   "metadata": {},
   "outputs": [],
   "source": [
    "def createPkl(pattern, treeName, sample_name, outputName):\n",
    "    files = glob.glob(f\"samples/{pattern}\")\n",
    "    dfs = []\n",
    "    for f in files:\n",
    "        df = ROOT.ROOT.RDataFrame(treeName,f)\n",
    "        df2 = pd.DataFrame(df.AsNumpy())\n",
    "        df2['sample_name'] = sample_name\n",
    "        df3 = df2[df2['weight']>0]\n",
    "        dfs.append(df3)\n",
    "        del df\n",
    "    if len(dfs)>1:\n",
    "        df_tot = pd.concat(dfs, ignore_index=True)\n",
    "    elif len(dfs)==1:\n",
    "        df_tot = dfs[0]\n",
    "    else:\n",
    "        print(\"No file found\")\n",
    "    df_tot.to_pickle(f\"pickles/{outputName}.pkl\")\n",
    "    del df_tot\n",
    "    del dfs"
   ]
  },
  {
   "cell_type": "code",
   "execution_count": 28,
   "id": "e40eebcc",
   "metadata": {},
   "outputs": [],
   "source": [
    "dfs = []\n",
    "d = (('*_WW.*', 'WW'), ('*_WWewk*', 'WWewk'), ('*ggWW*', 'ggWW'))\n",
    "for it in d:\n",
    "    files = glob.glob(f\"samples/{it[0]}\")\n",
    "\n",
    "    for f in files:\n",
    "        df = ROOT.ROOT.RDataFrame(f\"notTop_lowDeta/dnn_inputs/tree_{it[1]}\",f)\n",
    "        df2 = pd.DataFrame(df.AsNumpy())\n",
    "        df2['sample_name'] = it[1]\n",
    "        df3 = df2[df2['weight']>0]\n",
    "        dfs.append(df3)\n",
    "        del df\n",
    "if len(dfs)>1:\n",
    "    df_tot = pd.concat(dfs, ignore_index=True)\n",
    "elif len(dfs)==1:\n",
    "    df_tot = dfs[0]\n",
    "df_tot.to_pickle(f\"pickles/lowDeta_WW.pkl\")\n",
    "del df_tot\n",
    "del dfs"
   ]
  },
  {
   "cell_type": "code",
   "execution_count": 30,
   "id": "407b2c8d",
   "metadata": {},
   "outputs": [],
   "source": [
    "dfs = []\n",
    "d = (('*_WW.*', 'WW'), ('*_WWewk*', 'WWewk'), ('*ggWW*', 'ggWW'))\n",
    "for it in d:\n",
    "    files = glob.glob(f\"samples/{it[0]}\")\n",
    "\n",
    "    for f in files:\n",
    "        df = ROOT.ROOT.RDataFrame(f\"notTop_highDeta/dnn_inputs/tree_{it[1]}\",f)\n",
    "        df2 = pd.DataFrame(df.AsNumpy())\n",
    "        df2['sample_name'] = it[1]\n",
    "        df3 = df2[df2['weight']>0]\n",
    "        dfs.append(df3)\n",
    "        del df\n",
    "if len(dfs)>1:\n",
    "    df_tot = pd.concat(dfs, ignore_index=True)\n",
    "elif len(dfs)==1:\n",
    "    df_tot = dfs[0]\n",
    "df_tot.to_pickle(f\"pickles/highDeta_WW.pkl\")\n",
    "del df_tot\n",
    "del dfs"
   ]
  },
  {
   "cell_type": "markdown",
   "id": "3d712122",
   "metadata": {},
   "source": [
    "### Multiboson"
   ]
  },
  {
   "cell_type": "code",
   "execution_count": 31,
   "id": "f3544d56",
   "metadata": {},
   "outputs": [
    {
     "data": {
      "text/plain": [
       "['samples/plots_dnn_2018_ALL_VVV.0.root',\n",
       " 'samples/plots_dnn_2018_ALL_VVV.1.root',\n",
       " 'samples/plots_dnn_2018_ALL_VZ.0.root',\n",
       " 'samples/plots_dnn_2018_ALL_VZ.1.root',\n",
       " 'samples/plots_dnn_2018_ALL_VZ.10.root',\n",
       " 'samples/plots_dnn_2018_ALL_VZ.11.root',\n",
       " 'samples/plots_dnn_2018_ALL_VZ.12.root',\n",
       " 'samples/plots_dnn_2018_ALL_VZ.13.root',\n",
       " 'samples/plots_dnn_2018_ALL_VZ.14.root',\n",
       " 'samples/plots_dnn_2018_ALL_VZ.15.root',\n",
       " 'samples/plots_dnn_2018_ALL_VZ.16.root',\n",
       " 'samples/plots_dnn_2018_ALL_VZ.17.root',\n",
       " 'samples/plots_dnn_2018_ALL_VZ.18.root',\n",
       " 'samples/plots_dnn_2018_ALL_VZ.19.root',\n",
       " 'samples/plots_dnn_2018_ALL_VZ.2.root',\n",
       " 'samples/plots_dnn_2018_ALL_VZ.20.root',\n",
       " 'samples/plots_dnn_2018_ALL_VZ.21.root',\n",
       " 'samples/plots_dnn_2018_ALL_VZ.22.root',\n",
       " 'samples/plots_dnn_2018_ALL_VZ.23.root',\n",
       " 'samples/plots_dnn_2018_ALL_VZ.24.root',\n",
       " 'samples/plots_dnn_2018_ALL_VZ.25.root',\n",
       " 'samples/plots_dnn_2018_ALL_VZ.26.root',\n",
       " 'samples/plots_dnn_2018_ALL_VZ.27.root',\n",
       " 'samples/plots_dnn_2018_ALL_VZ.28.root',\n",
       " 'samples/plots_dnn_2018_ALL_VZ.29.root',\n",
       " 'samples/plots_dnn_2018_ALL_VZ.3.root',\n",
       " 'samples/plots_dnn_2018_ALL_VZ.30.root',\n",
       " 'samples/plots_dnn_2018_ALL_VZ.31.root',\n",
       " 'samples/plots_dnn_2018_ALL_VZ.32.root',\n",
       " 'samples/plots_dnn_2018_ALL_VZ.33.root',\n",
       " 'samples/plots_dnn_2018_ALL_VZ.34.root',\n",
       " 'samples/plots_dnn_2018_ALL_VZ.35.root',\n",
       " 'samples/plots_dnn_2018_ALL_VZ.36.root',\n",
       " 'samples/plots_dnn_2018_ALL_VZ.37.root',\n",
       " 'samples/plots_dnn_2018_ALL_VZ.38.root',\n",
       " 'samples/plots_dnn_2018_ALL_VZ.39.root',\n",
       " 'samples/plots_dnn_2018_ALL_VZ.4.root',\n",
       " 'samples/plots_dnn_2018_ALL_VZ.5.root',\n",
       " 'samples/plots_dnn_2018_ALL_VZ.6.root',\n",
       " 'samples/plots_dnn_2018_ALL_VZ.7.root',\n",
       " 'samples/plots_dnn_2018_ALL_VZ.8.root',\n",
       " 'samples/plots_dnn_2018_ALL_VZ.9.root',\n",
       " 'samples/plots_dnn_2018_ALL_Vg.0.root',\n",
       " 'samples/plots_dnn_2018_ALL_Vg.1.root',\n",
       " 'samples/plots_dnn_2018_ALL_Vg.2.root',\n",
       " 'samples/plots_dnn_2018_ALL_Vg.3.root',\n",
       " 'samples/plots_dnn_2018_ALL_Vg.4.root',\n",
       " 'samples/plots_dnn_2018_ALL_Vg.5.root',\n",
       " 'samples/plots_dnn_2018_ALL_VgS.0.root',\n",
       " 'samples/plots_dnn_2018_ALL_VgS.1.root',\n",
       " 'samples/plots_dnn_2018_ALL_VgS.10.root',\n",
       " 'samples/plots_dnn_2018_ALL_VgS.11.root',\n",
       " 'samples/plots_dnn_2018_ALL_VgS.12.root',\n",
       " 'samples/plots_dnn_2018_ALL_VgS.13.root',\n",
       " 'samples/plots_dnn_2018_ALL_VgS.14.root',\n",
       " 'samples/plots_dnn_2018_ALL_VgS.15.root',\n",
       " 'samples/plots_dnn_2018_ALL_VgS.16.root',\n",
       " 'samples/plots_dnn_2018_ALL_VgS.17.root',\n",
       " 'samples/plots_dnn_2018_ALL_VgS.18.root',\n",
       " 'samples/plots_dnn_2018_ALL_VgS.19.root',\n",
       " 'samples/plots_dnn_2018_ALL_VgS.2.root',\n",
       " 'samples/plots_dnn_2018_ALL_VgS.3.root',\n",
       " 'samples/plots_dnn_2018_ALL_VgS.4.root',\n",
       " 'samples/plots_dnn_2018_ALL_VgS.5.root',\n",
       " 'samples/plots_dnn_2018_ALL_VgS.6.root',\n",
       " 'samples/plots_dnn_2018_ALL_VgS.7.root',\n",
       " 'samples/plots_dnn_2018_ALL_VgS.8.root',\n",
       " 'samples/plots_dnn_2018_ALL_VgS.9.root']"
      ]
     },
     "execution_count": 31,
     "metadata": {},
     "output_type": "execute_result"
    }
   ],
   "source": [
    "glob.glob(\"samples/*V*\")"
   ]
  },
  {
   "cell_type": "code",
   "execution_count": 34,
   "id": "7c67f8cf",
   "metadata": {},
   "outputs": [],
   "source": [
    "dfs = []\n",
    "d = (('*_Vg.*', 'Vg'), ('*_VgS.*', 'VgS_H'), ('*_VgS.*', 'VgS_L'), ('*_VZ.*', 'VZ'), ('*_VVV.*', 'VVV'))\n",
    "for it in d:\n",
    "    files = glob.glob(f\"samples/{it[0]}\")\n",
    "\n",
    "    for f in files:\n",
    "        df = ROOT.ROOT.RDataFrame(f\"notTop_lowDeta/dnn_inputs/tree_{it[1]}\",f)\n",
    "        df2 = pd.DataFrame(df.AsNumpy())\n",
    "        df2['sample_name'] = it[1]\n",
    "        df3 = df2[df2['weight']>0]\n",
    "        dfs.append(df3)\n",
    "        del df\n",
    "if len(dfs)>1:\n",
    "    df_tot = pd.concat(dfs, ignore_index=True)\n",
    "elif len(dfs)==1:\n",
    "    df_tot = dfs[0]\n",
    "df_tot.to_pickle(f\"pickles/lowDeta_MultiBoson.pkl\")\n",
    "del df_tot\n",
    "del dfs"
   ]
  },
  {
   "cell_type": "code",
   "execution_count": 35,
   "id": "55460cc7",
   "metadata": {},
   "outputs": [],
   "source": [
    "dfs = []\n",
    "d = (('*_Vg.*', 'Vg'), ('*_VgS.*', 'VgS_H'), ('*_VgS.*', 'VgS_L'), ('*_VZ.*', 'VZ'), ('*_VVV.*', 'VVV'))\n",
    "for it in d:\n",
    "    files = glob.glob(f\"samples/{it[0]}\")\n",
    "\n",
    "    for f in files:\n",
    "        df = ROOT.ROOT.RDataFrame(f\"notTop_highDeta/dnn_inputs/tree_{it[1]}\",f)\n",
    "        df2 = pd.DataFrame(df.AsNumpy())\n",
    "        df2['sample_name'] = it[1]\n",
    "        df3 = df2[df2['weight']>0]\n",
    "        dfs.append(df3)\n",
    "        del df\n",
    "if len(dfs)>1:\n",
    "    df_tot = pd.concat(dfs, ignore_index=True)\n",
    "elif len(dfs)==1:\n",
    "    df_tot = dfs[0]\n",
    "df_tot.to_pickle(f\"pickles/highDeta_MultiBoson.pkl\")\n",
    "del df_tot\n",
    "del dfs"
   ]
  },
  {
   "cell_type": "code",
   "execution_count": 36,
   "id": "e0aa9e71",
   "metadata": {
    "scrolled": true
   },
   "outputs": [
    {
     "data": {
      "text/plain": [
       "['pickles/highDeta_MultiBoson.pkl',\n",
       " 'pickles/highDeta_WW.pkl',\n",
       " 'pickles/highDeta_bkg.pkl',\n",
       " 'pickles/highDeta_sig.pkl',\n",
       " 'pickles/highDeta_top.pkl',\n",
       " 'pickles/lowDeta_MultiBoson.pkl',\n",
       " 'pickles/lowDeta_WW.pkl',\n",
       " 'pickles/lowDeta_bkg.pkl',\n",
       " 'pickles/lowDeta_sig.pkl',\n",
       " 'pickles/lowDeta_top.pkl']"
      ]
     },
     "execution_count": 36,
     "metadata": {},
     "output_type": "execute_result"
    }
   ],
   "source": [
    "glob.glob(\"pickles/*\")"
   ]
  },
  {
   "cell_type": "markdown",
   "id": "953593b2",
   "metadata": {},
   "source": [
    "# Total distribution (without bVeto)\n",
    "{ 'Zjj',  'DY', 'top', 'WW', 'WWewk', 'ggWW', 'Vg', 'VgS',  'VZ' , 'VVV' }"
   ]
  },
  {
   "cell_type": "markdown",
   "id": "a755b669",
   "metadata": {},
   "source": [
    "## Signal Zjj"
   ]
  },
  {
   "cell_type": "code",
   "execution_count": 7,
   "id": "731c4f68",
   "metadata": {},
   "outputs": [],
   "source": [
    "files = glob.glob(\"samples/*Zjj*\")\n",
    "dfs = []\n",
    "for f in files:\n",
    "    df = ROOT.ROOT.RDataFrame(\"total/dnn_inputs/tree_Zjj\",f)\n",
    "    df2 = pd.DataFrame(df.AsNumpy())\n",
    "    df2['sample_name'] = 'Zjj'\n",
    "    df3 = df2[df2['weight']>0]\n",
    "    dfs.append(df3)\n",
    "    del df\n",
    "    \n",
    "df_tot = pd.concat(dfs, ignore_index=True)\n",
    "df_tot.to_pickle(\"pickles/total_sig.pkl\")\n",
    "del df_tot\n",
    "del dfs"
   ]
  },
  {
   "cell_type": "markdown",
   "id": "a9c895cb",
   "metadata": {},
   "source": [
    "## DY and DY PU"
   ]
  },
  {
   "cell_type": "code",
   "execution_count": 37,
   "id": "01bb15ec",
   "metadata": {},
   "outputs": [],
   "source": [
    "files = glob.glob(\"samples/*DY*\")\n",
    "dfs = []\n",
    "for f in files:\n",
    "    df = ROOT.ROOT.RDataFrame(\"total/dnn_inputs/tree_DY_PUJets\",f)\n",
    "    df2 = pd.DataFrame(df.AsNumpy())\n",
    "    df2['sample_name'] = 'DY PU'\n",
    "    df3 = df2[df2['weight']>0]\n",
    "    dfs.append(df3)\n",
    "    del df\n",
    "    df = ROOT.ROOT.RDataFrame(\"total/dnn_inputs/tree_DY_hardJets\",f)\n",
    "    df2 = pd.DataFrame(df.AsNumpy())\n",
    "    df2['sample_name'] = 'DY'\n",
    "    df3 = df2[df2['weight']>0]\n",
    "    dfs.append(df3)\n",
    "    del df\n",
    "df_tot = pd.concat(dfs, ignore_index=True)\n",
    "df_tot.to_pickle(\"pickles/total_DY.pkl\")\n",
    "del df_tot\n",
    "del dfs"
   ]
  },
  {
   "cell_type": "markdown",
   "id": "3e91e50a",
   "metadata": {},
   "source": [
    "## Secondary samples"
   ]
  },
  {
   "cell_type": "markdown",
   "id": "750c9600",
   "metadata": {},
   "source": [
    "### Top"
   ]
  },
  {
   "cell_type": "code",
   "execution_count": 7,
   "id": "9026b692",
   "metadata": {},
   "outputs": [],
   "source": [
    "files = glob.glob(\"samples/*top*\")\n",
    "dfs = []\n",
    "for f in files:\n",
    "    df = ROOT.ROOT.RDataFrame(\"total/dnn_inputs/tree_top\",f)\n",
    "    df2 = pd.DataFrame(df.AsNumpy())\n",
    "    df2['sample_name'] = 'Top'\n",
    "    df3 = df2[df2['weight']>0]\n",
    "    dfs.append(df3)\n",
    "    del df\n",
    "df_tot = pd.concat(dfs, ignore_index=True)\n",
    "df_tot.to_pickle(\"pickles/total_top.pkl\")\n",
    "del df_tot\n",
    "del dfs"
   ]
  },
  {
   "cell_type": "markdown",
   "id": "44168c93",
   "metadata": {},
   "source": [
    "### WW "
   ]
  },
  {
   "cell_type": "code",
   "execution_count": 28,
   "id": "242f88e8",
   "metadata": {},
   "outputs": [],
   "source": [
    "dfs = []\n",
    "d = (('*_WW.*', 'WW'), ('*_WWewk*', 'WWewk'), ('*ggWW*', 'ggWW'))\n",
    "for it in d:\n",
    "    files = glob.glob(f\"samples/{it[0]}\")\n",
    "\n",
    "    for f in files:\n",
    "        df = ROOT.ROOT.RDataFrame(f\"total/dnn_inputs/tree_{it[1]}\",f)\n",
    "        df2 = pd.DataFrame(df.AsNumpy())\n",
    "        df2['sample_name'] = it[1]\n",
    "        df3 = df2[df2['weight']>0]\n",
    "        dfs.append(df3)\n",
    "        del df\n",
    "if len(dfs)>1:\n",
    "    df_tot = pd.concat(dfs, ignore_index=True)\n",
    "elif len(dfs)==1:\n",
    "    df_tot = dfs[0]\n",
    "df_tot.to_pickle(f\"pickles/total_WW.pkl\")\n",
    "del df_tot\n",
    "del dfs"
   ]
  },
  {
   "cell_type": "markdown",
   "id": "3f945ae8",
   "metadata": {},
   "source": [
    "### Multiboson"
   ]
  },
  {
   "cell_type": "code",
   "execution_count": 31,
   "id": "8b0d5166",
   "metadata": {
    "scrolled": true
   },
   "outputs": [
    {
     "data": {
      "text/plain": [
       "['samples/plots_dnn_2018_ALL_VVV.0.root',\n",
       " 'samples/plots_dnn_2018_ALL_VVV.1.root',\n",
       " 'samples/plots_dnn_2018_ALL_VZ.0.root',\n",
       " 'samples/plots_dnn_2018_ALL_VZ.1.root',\n",
       " 'samples/plots_dnn_2018_ALL_VZ.10.root',\n",
       " 'samples/plots_dnn_2018_ALL_VZ.11.root',\n",
       " 'samples/plots_dnn_2018_ALL_VZ.12.root',\n",
       " 'samples/plots_dnn_2018_ALL_VZ.13.root',\n",
       " 'samples/plots_dnn_2018_ALL_VZ.14.root',\n",
       " 'samples/plots_dnn_2018_ALL_VZ.15.root',\n",
       " 'samples/plots_dnn_2018_ALL_VZ.16.root',\n",
       " 'samples/plots_dnn_2018_ALL_VZ.17.root',\n",
       " 'samples/plots_dnn_2018_ALL_VZ.18.root',\n",
       " 'samples/plots_dnn_2018_ALL_VZ.19.root',\n",
       " 'samples/plots_dnn_2018_ALL_VZ.2.root',\n",
       " 'samples/plots_dnn_2018_ALL_VZ.20.root',\n",
       " 'samples/plots_dnn_2018_ALL_VZ.21.root',\n",
       " 'samples/plots_dnn_2018_ALL_VZ.22.root',\n",
       " 'samples/plots_dnn_2018_ALL_VZ.23.root',\n",
       " 'samples/plots_dnn_2018_ALL_VZ.24.root',\n",
       " 'samples/plots_dnn_2018_ALL_VZ.25.root',\n",
       " 'samples/plots_dnn_2018_ALL_VZ.26.root',\n",
       " 'samples/plots_dnn_2018_ALL_VZ.27.root',\n",
       " 'samples/plots_dnn_2018_ALL_VZ.28.root',\n",
       " 'samples/plots_dnn_2018_ALL_VZ.29.root',\n",
       " 'samples/plots_dnn_2018_ALL_VZ.3.root',\n",
       " 'samples/plots_dnn_2018_ALL_VZ.30.root',\n",
       " 'samples/plots_dnn_2018_ALL_VZ.31.root',\n",
       " 'samples/plots_dnn_2018_ALL_VZ.32.root',\n",
       " 'samples/plots_dnn_2018_ALL_VZ.33.root',\n",
       " 'samples/plots_dnn_2018_ALL_VZ.34.root',\n",
       " 'samples/plots_dnn_2018_ALL_VZ.35.root',\n",
       " 'samples/plots_dnn_2018_ALL_VZ.36.root',\n",
       " 'samples/plots_dnn_2018_ALL_VZ.37.root',\n",
       " 'samples/plots_dnn_2018_ALL_VZ.38.root',\n",
       " 'samples/plots_dnn_2018_ALL_VZ.39.root',\n",
       " 'samples/plots_dnn_2018_ALL_VZ.4.root',\n",
       " 'samples/plots_dnn_2018_ALL_VZ.5.root',\n",
       " 'samples/plots_dnn_2018_ALL_VZ.6.root',\n",
       " 'samples/plots_dnn_2018_ALL_VZ.7.root',\n",
       " 'samples/plots_dnn_2018_ALL_VZ.8.root',\n",
       " 'samples/plots_dnn_2018_ALL_VZ.9.root',\n",
       " 'samples/plots_dnn_2018_ALL_Vg.0.root',\n",
       " 'samples/plots_dnn_2018_ALL_Vg.1.root',\n",
       " 'samples/plots_dnn_2018_ALL_Vg.2.root',\n",
       " 'samples/plots_dnn_2018_ALL_Vg.3.root',\n",
       " 'samples/plots_dnn_2018_ALL_Vg.4.root',\n",
       " 'samples/plots_dnn_2018_ALL_Vg.5.root',\n",
       " 'samples/plots_dnn_2018_ALL_VgS.0.root',\n",
       " 'samples/plots_dnn_2018_ALL_VgS.1.root',\n",
       " 'samples/plots_dnn_2018_ALL_VgS.10.root',\n",
       " 'samples/plots_dnn_2018_ALL_VgS.11.root',\n",
       " 'samples/plots_dnn_2018_ALL_VgS.12.root',\n",
       " 'samples/plots_dnn_2018_ALL_VgS.13.root',\n",
       " 'samples/plots_dnn_2018_ALL_VgS.14.root',\n",
       " 'samples/plots_dnn_2018_ALL_VgS.15.root',\n",
       " 'samples/plots_dnn_2018_ALL_VgS.16.root',\n",
       " 'samples/plots_dnn_2018_ALL_VgS.17.root',\n",
       " 'samples/plots_dnn_2018_ALL_VgS.18.root',\n",
       " 'samples/plots_dnn_2018_ALL_VgS.19.root',\n",
       " 'samples/plots_dnn_2018_ALL_VgS.2.root',\n",
       " 'samples/plots_dnn_2018_ALL_VgS.3.root',\n",
       " 'samples/plots_dnn_2018_ALL_VgS.4.root',\n",
       " 'samples/plots_dnn_2018_ALL_VgS.5.root',\n",
       " 'samples/plots_dnn_2018_ALL_VgS.6.root',\n",
       " 'samples/plots_dnn_2018_ALL_VgS.7.root',\n",
       " 'samples/plots_dnn_2018_ALL_VgS.8.root',\n",
       " 'samples/plots_dnn_2018_ALL_VgS.9.root']"
      ]
     },
     "execution_count": 31,
     "metadata": {},
     "output_type": "execute_result"
    }
   ],
   "source": [
    "glob.glob(\"samples/*V*\")"
   ]
  },
  {
   "cell_type": "code",
   "execution_count": 34,
   "id": "9777d4e5",
   "metadata": {},
   "outputs": [],
   "source": [
    "dfs = []\n",
    "d = (('*_Vg.*', 'Vg'), ('*_VgS.*', 'VgS_H'), ('*_VgS.*', 'VgS_L'), ('*_VZ.*', 'VZ'), ('*_VVV.*', 'VVV'))\n",
    "for it in d:\n",
    "    files = glob.glob(f\"samples/{it[0]}\")\n",
    "\n",
    "    for f in files:\n",
    "        df = ROOT.ROOT.RDataFrame(f\"total/dnn_inputs/tree_{it[1]}\",f)\n",
    "        df2 = pd.DataFrame(df.AsNumpy())\n",
    "        df2['sample_name'] = it[1]\n",
    "        df3 = df2[df2['weight']>0]\n",
    "        dfs.append(df3)\n",
    "        del df\n",
    "if len(dfs)>1:\n",
    "    df_tot = pd.concat(dfs, ignore_index=True)\n",
    "elif len(dfs)==1:\n",
    "    df_tot = dfs[0]\n",
    "df_tot.to_pickle(f\"pickles/total_MultiBoson.pkl\")\n",
    "del df_tot\n",
    "del dfs"
   ]
  },
  {
   "cell_type": "code",
   "execution_count": null,
   "id": "c4974297",
   "metadata": {},
   "outputs": [],
   "source": []
  }
 ],
 "metadata": {
  "kernelspec": {
   "display_name": "Python 3",
   "language": "python",
   "name": "python3"
  },
  "language_info": {
   "codemirror_mode": {
    "name": "ipython",
    "version": 3
   },
   "file_extension": ".py",
   "mimetype": "text/x-python",
   "name": "python",
   "nbconvert_exporter": "python",
   "pygments_lexer": "ipython3",
   "version": "3.6.5"
  }
 },
 "nbformat": 4,
 "nbformat_minor": 5
}
